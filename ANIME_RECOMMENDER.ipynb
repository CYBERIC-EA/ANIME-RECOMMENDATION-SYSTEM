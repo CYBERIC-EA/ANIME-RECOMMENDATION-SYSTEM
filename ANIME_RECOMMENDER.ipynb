{
  "cells": [
    {
      "cell_type": "markdown",
      "metadata": {
        "id": "view-in-github",
        "colab_type": "text"
      },
      "source": [
        "<a href=\"https://colab.research.google.com/github/CYBERIC-EA/ANIME-RECOMMENDER/blob/main/ANIME_RECOMMENDER.ipynb\" target=\"_parent\"><img src=\"https://colab.research.google.com/assets/colab-badge.svg\" alt=\"Open In Colab\"/></a>"
      ]
    },
    {
      "cell_type": "code",
      "execution_count": 241,
      "metadata": {
        "id": "z-POyZggoWrA",
        "colab": {
          "base_uri": "https://localhost:8080/"
        },
        "outputId": "7deeb68f-8fc5-46e4-a609-24c3c5e65b80"
      },
      "outputs": [
        {
          "output_type": "stream",
          "name": "stdout",
          "text": [
            "Drive already mounted at /content/drive; to attempt to forcibly remount, call drive.mount(\"/content/drive\", force_remount=True).\n"
          ]
        }
      ],
      "source": [
        "from google.colab import drive\n",
        "drive.mount('/content/drive')"
      ],
      "id": "z-POyZggoWrA"
    },
    {
      "cell_type": "markdown",
      "metadata": {
        "id": "725f47b1-42d4-423a-b5fc-ca43484a58b8"
      },
      "source": [
        "TABLE OF CONTENTS\n",
        "1. Introduction\n",
        "2. Data Id\n",
        "3. Libraries\n",
        "4. Preprocessing and Data Analysis\n",
        "5. Cosine Similarity Model\n",
        "6. Conclusion"
      ],
      "id": "725f47b1-42d4-423a-b5fc-ca43484a58b8"
    },
    {
      "cell_type": "markdown",
      "metadata": {
        "id": "e98bd179-5bec-4ff1-ab09-d0886db224a7"
      },
      "source": [
        "This data set contains information on user preference data from 73,516 users on 16,621 anime. Each user is able to add anime to their completed list and give it a rating and this data set is a compilation of those ratings. The data was scraped thanks to myanimelist.net API."
      ],
      "id": "e98bd179-5bec-4ff1-ab09-d0886db224a7"
    },
    {
      "cell_type": "markdown",
      "metadata": {
        "id": "bcc26439-77a4-4aea-95b6-be450643ed47"
      },
      "source": [
        "SECTION 2\n",
        "DATA INDENTIFICATION"
      ],
      "id": "bcc26439-77a4-4aea-95b6-be450643ed47"
    },
    {
      "cell_type": "raw",
      "metadata": {
        "id": "230f0970-102f-4210-ba8c-f63dfaba2d52"
      },
      "source": [
        "Anime Dataset\n",
        "This dataset is named anime. The dataset contains a set of 16,850 records under 17 attributes:\n",
        "\n",
        "Column Name                                   Description\n",
        "Anime-PlanetID                                myanimelist.net's unique id identifying an anime.\n",
        "Name                                          full name of anime.\n",
        "Alternative Name\n",
        "Rating Score                                  average rating out of 10 for this anime.\n",
        "Number Votes\n",
        "Tags                                          comma separated list of genres for this anime.\n",
        "Content Warning\n",
        "Type                                          movie, TV, OVA, etc.\n",
        "Episodes                                      how many episodes in this show. (1 if movie).\n",
        "Finished\n",
        "Duration\n",
        "StartYear\n",
        "EndYear\n",
        "Season\n",
        "Studios\n",
        "Synopsis\n",
        "Url\n"
      ],
      "id": "230f0970-102f-4210-ba8c-f63dfaba2d52"
    },
    {
      "cell_type": "raw",
      "metadata": {
        "id": "8183494b-d743-4d0c-a18a-2faadd4b8698"
      },
      "source": [
        "Rating Dataset\n",
        "This dataset is named rating. The dataset contains a set of 8,765,945 records under 3 attributes:\n",
        "\n",
        "Column Name                   Description\n",
        "user_id                       non identifiable randomly generated user id.\n",
        "anime_id                      the anime that this user has rated.\n",
        "rating                        rating out of 10 this user has assigned (-1 if the user watched without assigning)"
      ],
      "id": "8183494b-d743-4d0c-a18a-2faadd4b8698"
    },
    {
      "cell_type": "code",
      "execution_count": 242,
      "metadata": {
        "id": "97a33f84-a144-471a-b75d-9360bf095ee2"
      },
      "outputs": [],
      "source": [
        "import os #paths to file\n",
        "import numpy as np # linear algebra\n",
        "import pandas as pd # data processing\n",
        "import warnings# warning filter\n",
        "import scipy as sp #pivot egineering\n",
        "\n",
        "\n",
        "#ML model\n",
        "from sklearn.metrics.pairwise import cosine_similarity\n",
        "\n",
        "\n",
        "#default theme and settings\n",
        "pd.options.display.max_columns\n",
        "\n",
        "#warning hadle\n",
        "\n",
        "warnings.filterwarnings(\"always\")\n",
        "warnings.filterwarnings(\"ignore\")\n"
      ],
      "id": "97a33f84-a144-471a-b75d-9360bf095ee2"
    },
    {
      "cell_type": "raw",
      "metadata": {
        "id": "fea64ee8-858b-4ba9-bf77-3fb19e306700"
      },
      "source": [
        "Using the OS module to take a look at the data"
      ],
      "id": "fea64ee8-858b-4ba9-bf77-3fb19e306700"
    },
    {
      "cell_type": "code",
      "execution_count": 243,
      "metadata": {
        "id": "a26141c6-6864-4f95-bc38-0e1340466686"
      },
      "outputs": [],
      "source": [
        "for dirname, _, filenames in os.walk('recommend/'):\n",
        "    for filename in filenames:\n",
        "        print(os.path.join(dirname, filename))\n",
        "        "
      ],
      "id": "a26141c6-6864-4f95-bc38-0e1340466686"
    },
    {
      "cell_type": "raw",
      "metadata": {
        "id": "3bc2352f-184b-45d4-a9f5-f4d0c30bce7e"
      },
      "source": [
        "recommend/Anime Dataset\\anime.csv\n",
        "recommend/Anime Dataset\\rating_complete.csv\n"
      ],
      "id": "3bc2352f-184b-45d4-a9f5-f4d0c30bce7e"
    },
    {
      "cell_type": "code",
      "execution_count": 244,
      "metadata": {
        "id": "657c00c2-e6de-4752-a275-5456e308b2bf"
      },
      "outputs": [],
      "source": [
        "ratingPath = 'recommend/rating_complete.csv'\n",
        "animePath = 'recommend/anime.csv'"
      ],
      "id": "657c00c2-e6de-4752-a275-5456e308b2bf"
    },
    {
      "cell_type": "code",
      "execution_count": 245,
      "metadata": {
        "id": "2a3d4765-5d2e-4410-b239-bc52f5915ad5",
        "colab": {
          "base_uri": "https://localhost:8080/",
          "height": 722
        },
        "outputId": "c045419f-375f-48bc-daf8-309a65fed8d5"
      },
      "outputs": [
        {
          "output_type": "execute_result",
          "data": {
            "text/plain": [
              "   Anime-PlanetID                                           Name  \\\n",
              "0              10                           The Prince of Tennis   \n",
              "1             100                        Neon Genesis Evangelion   \n",
              "2            1000              Full Metal Panic! The Second Raid   \n",
              "3           10000                 22/7: Shampoo no Nioi ga Shita   \n",
              "4           10001  Oshiri Tantei: Puputto Fumutto Kaiketsu Dance   \n",
              "\n",
              "       Alternative Name Rating Score Number Votes  \\\n",
              "0   Tennis no Ouji-sama        4.037        10889   \n",
              "1  Shinseiki Evangelion        4.248        54463   \n",
              "2               Unknown         4.35        23948   \n",
              "3               Unknown          2.8          131   \n",
              "4               Unknown        1.271           21   \n",
              "\n",
              "                                                Tags  \\\n",
              "0  Comedy, Drama, Shounen, Sports, Tennis, Based ...   \n",
              "1  Drama, Mecha, Sci Fi, Conspiracy, Kaijuu, Lone...   \n",
              "2  Action, Comedy, Mecha, Sci Fi, Shounen, Milita...   \n",
              "3                   Idols, School Life, CG Animation   \n",
              "4                                    Family Friendly   \n",
              "\n",
              "                                     Content Warning   Type Episodes  \\\n",
              "0                                            Unknown     TV      178   \n",
              "1  Emotional Abuse, Explicit Violence, Mature The...     TV       26   \n",
              "2                          Explicit Violence, Nudity     TV       13   \n",
              "3                                            Unknown  Music        1   \n",
              "4                                            Unknown    Web        1   \n",
              "\n",
              "   Finished Duration StartYear EndYear       Season  \\\n",
              "0      True  Unknown      2001    2005    Fall 2001   \n",
              "1      True  Unknown      1995    1996    Fall 1995   \n",
              "2      True  Unknown      2005    2005  Summer 2005   \n",
              "3      True        5      2018    2018      Unknown   \n",
              "4      True        2      2017    2017      Unknown   \n",
              "\n",
              "                        Studios  \\\n",
              "0    Production I.G, Trans Arts   \n",
              "1  GAINAX, Tatsunoko Production   \n",
              "2               Kyoto Animation   \n",
              "3                       Unknown   \n",
              "4                Toei Animation   \n",
              "\n",
              "                                            Synopsis  \\\n",
              "0  Meet Ryoma Echizen, the cocky prince of tennis...   \n",
              "1  In the future, a devastating event known as Se...   \n",
              "2  Half a year has passed since Sousuke Sagara to...   \n",
              "3  The idol group 22/7 perform the song Shampoo n...   \n",
              "4                 No synopsis yet - check back soon!   \n",
              "\n",
              "                                                 Url  \n",
              "0  https://www.anime-planet.com/anime/the-prince-...  \n",
              "1  https://www.anime-planet.com/anime/neon-genesi...  \n",
              "2  https://www.anime-planet.com/anime/full-metal-...  \n",
              "3  https://www.anime-planet.com/anime/22-7-shampo...  \n",
              "4  https://www.anime-planet.com/anime/oshiri-tant...  "
            ],
            "text/html": [
              "\n",
              "  <div id=\"df-737fd153-3be2-4ad8-a02e-aed2d65171c0\">\n",
              "    <div class=\"colab-df-container\">\n",
              "      <div>\n",
              "<style scoped>\n",
              "    .dataframe tbody tr th:only-of-type {\n",
              "        vertical-align: middle;\n",
              "    }\n",
              "\n",
              "    .dataframe tbody tr th {\n",
              "        vertical-align: top;\n",
              "    }\n",
              "\n",
              "    .dataframe thead th {\n",
              "        text-align: right;\n",
              "    }\n",
              "</style>\n",
              "<table border=\"1\" class=\"dataframe\">\n",
              "  <thead>\n",
              "    <tr style=\"text-align: right;\">\n",
              "      <th></th>\n",
              "      <th>Anime-PlanetID</th>\n",
              "      <th>Name</th>\n",
              "      <th>Alternative Name</th>\n",
              "      <th>Rating Score</th>\n",
              "      <th>Number Votes</th>\n",
              "      <th>Tags</th>\n",
              "      <th>Content Warning</th>\n",
              "      <th>Type</th>\n",
              "      <th>Episodes</th>\n",
              "      <th>Finished</th>\n",
              "      <th>Duration</th>\n",
              "      <th>StartYear</th>\n",
              "      <th>EndYear</th>\n",
              "      <th>Season</th>\n",
              "      <th>Studios</th>\n",
              "      <th>Synopsis</th>\n",
              "      <th>Url</th>\n",
              "    </tr>\n",
              "  </thead>\n",
              "  <tbody>\n",
              "    <tr>\n",
              "      <th>0</th>\n",
              "      <td>10</td>\n",
              "      <td>The Prince of Tennis</td>\n",
              "      <td>Tennis no Ouji-sama</td>\n",
              "      <td>4.037</td>\n",
              "      <td>10889</td>\n",
              "      <td>Comedy, Drama, Shounen, Sports, Tennis, Based ...</td>\n",
              "      <td>Unknown</td>\n",
              "      <td>TV</td>\n",
              "      <td>178</td>\n",
              "      <td>True</td>\n",
              "      <td>Unknown</td>\n",
              "      <td>2001</td>\n",
              "      <td>2005</td>\n",
              "      <td>Fall 2001</td>\n",
              "      <td>Production I.G, Trans Arts</td>\n",
              "      <td>Meet Ryoma Echizen, the cocky prince of tennis...</td>\n",
              "      <td>https://www.anime-planet.com/anime/the-prince-...</td>\n",
              "    </tr>\n",
              "    <tr>\n",
              "      <th>1</th>\n",
              "      <td>100</td>\n",
              "      <td>Neon Genesis Evangelion</td>\n",
              "      <td>Shinseiki Evangelion</td>\n",
              "      <td>4.248</td>\n",
              "      <td>54463</td>\n",
              "      <td>Drama, Mecha, Sci Fi, Conspiracy, Kaijuu, Lone...</td>\n",
              "      <td>Emotional Abuse, Explicit Violence, Mature The...</td>\n",
              "      <td>TV</td>\n",
              "      <td>26</td>\n",
              "      <td>True</td>\n",
              "      <td>Unknown</td>\n",
              "      <td>1995</td>\n",
              "      <td>1996</td>\n",
              "      <td>Fall 1995</td>\n",
              "      <td>GAINAX, Tatsunoko Production</td>\n",
              "      <td>In the future, a devastating event known as Se...</td>\n",
              "      <td>https://www.anime-planet.com/anime/neon-genesi...</td>\n",
              "    </tr>\n",
              "    <tr>\n",
              "      <th>2</th>\n",
              "      <td>1000</td>\n",
              "      <td>Full Metal Panic! The Second Raid</td>\n",
              "      <td>Unknown</td>\n",
              "      <td>4.35</td>\n",
              "      <td>23948</td>\n",
              "      <td>Action, Comedy, Mecha, Sci Fi, Shounen, Milita...</td>\n",
              "      <td>Explicit Violence, Nudity</td>\n",
              "      <td>TV</td>\n",
              "      <td>13</td>\n",
              "      <td>True</td>\n",
              "      <td>Unknown</td>\n",
              "      <td>2005</td>\n",
              "      <td>2005</td>\n",
              "      <td>Summer 2005</td>\n",
              "      <td>Kyoto Animation</td>\n",
              "      <td>Half a year has passed since Sousuke Sagara to...</td>\n",
              "      <td>https://www.anime-planet.com/anime/full-metal-...</td>\n",
              "    </tr>\n",
              "    <tr>\n",
              "      <th>3</th>\n",
              "      <td>10000</td>\n",
              "      <td>22/7: Shampoo no Nioi ga Shita</td>\n",
              "      <td>Unknown</td>\n",
              "      <td>2.8</td>\n",
              "      <td>131</td>\n",
              "      <td>Idols, School Life, CG Animation</td>\n",
              "      <td>Unknown</td>\n",
              "      <td>Music</td>\n",
              "      <td>1</td>\n",
              "      <td>True</td>\n",
              "      <td>5</td>\n",
              "      <td>2018</td>\n",
              "      <td>2018</td>\n",
              "      <td>Unknown</td>\n",
              "      <td>Unknown</td>\n",
              "      <td>The idol group 22/7 perform the song Shampoo n...</td>\n",
              "      <td>https://www.anime-planet.com/anime/22-7-shampo...</td>\n",
              "    </tr>\n",
              "    <tr>\n",
              "      <th>4</th>\n",
              "      <td>10001</td>\n",
              "      <td>Oshiri Tantei: Puputto Fumutto Kaiketsu Dance</td>\n",
              "      <td>Unknown</td>\n",
              "      <td>1.271</td>\n",
              "      <td>21</td>\n",
              "      <td>Family Friendly</td>\n",
              "      <td>Unknown</td>\n",
              "      <td>Web</td>\n",
              "      <td>1</td>\n",
              "      <td>True</td>\n",
              "      <td>2</td>\n",
              "      <td>2017</td>\n",
              "      <td>2017</td>\n",
              "      <td>Unknown</td>\n",
              "      <td>Toei Animation</td>\n",
              "      <td>No synopsis yet - check back soon!</td>\n",
              "      <td>https://www.anime-planet.com/anime/oshiri-tant...</td>\n",
              "    </tr>\n",
              "  </tbody>\n",
              "</table>\n",
              "</div>\n",
              "      <button class=\"colab-df-convert\" onclick=\"convertToInteractive('df-737fd153-3be2-4ad8-a02e-aed2d65171c0')\"\n",
              "              title=\"Convert this dataframe to an interactive table.\"\n",
              "              style=\"display:none;\">\n",
              "        \n",
              "  <svg xmlns=\"http://www.w3.org/2000/svg\" height=\"24px\"viewBox=\"0 0 24 24\"\n",
              "       width=\"24px\">\n",
              "    <path d=\"M0 0h24v24H0V0z\" fill=\"none\"/>\n",
              "    <path d=\"M18.56 5.44l.94 2.06.94-2.06 2.06-.94-2.06-.94-.94-2.06-.94 2.06-2.06.94zm-11 1L8.5 8.5l.94-2.06 2.06-.94-2.06-.94L8.5 2.5l-.94 2.06-2.06.94zm10 10l.94 2.06.94-2.06 2.06-.94-2.06-.94-.94-2.06-.94 2.06-2.06.94z\"/><path d=\"M17.41 7.96l-1.37-1.37c-.4-.4-.92-.59-1.43-.59-.52 0-1.04.2-1.43.59L10.3 9.45l-7.72 7.72c-.78.78-.78 2.05 0 2.83L4 21.41c.39.39.9.59 1.41.59.51 0 1.02-.2 1.41-.59l7.78-7.78 2.81-2.81c.8-.78.8-2.07 0-2.86zM5.41 20L4 18.59l7.72-7.72 1.47 1.35L5.41 20z\"/>\n",
              "  </svg>\n",
              "      </button>\n",
              "      \n",
              "  <style>\n",
              "    .colab-df-container {\n",
              "      display:flex;\n",
              "      flex-wrap:wrap;\n",
              "      gap: 12px;\n",
              "    }\n",
              "\n",
              "    .colab-df-convert {\n",
              "      background-color: #E8F0FE;\n",
              "      border: none;\n",
              "      border-radius: 50%;\n",
              "      cursor: pointer;\n",
              "      display: none;\n",
              "      fill: #1967D2;\n",
              "      height: 32px;\n",
              "      padding: 0 0 0 0;\n",
              "      width: 32px;\n",
              "    }\n",
              "\n",
              "    .colab-df-convert:hover {\n",
              "      background-color: #E2EBFA;\n",
              "      box-shadow: 0px 1px 2px rgba(60, 64, 67, 0.3), 0px 1px 3px 1px rgba(60, 64, 67, 0.15);\n",
              "      fill: #174EA6;\n",
              "    }\n",
              "\n",
              "    [theme=dark] .colab-df-convert {\n",
              "      background-color: #3B4455;\n",
              "      fill: #D2E3FC;\n",
              "    }\n",
              "\n",
              "    [theme=dark] .colab-df-convert:hover {\n",
              "      background-color: #434B5C;\n",
              "      box-shadow: 0px 1px 3px 1px rgba(0, 0, 0, 0.15);\n",
              "      filter: drop-shadow(0px 1px 2px rgba(0, 0, 0, 0.3));\n",
              "      fill: #FFFFFF;\n",
              "    }\n",
              "  </style>\n",
              "\n",
              "      <script>\n",
              "        const buttonEl =\n",
              "          document.querySelector('#df-737fd153-3be2-4ad8-a02e-aed2d65171c0 button.colab-df-convert');\n",
              "        buttonEl.style.display =\n",
              "          google.colab.kernel.accessAllowed ? 'block' : 'none';\n",
              "\n",
              "        async function convertToInteractive(key) {\n",
              "          const element = document.querySelector('#df-737fd153-3be2-4ad8-a02e-aed2d65171c0');\n",
              "          const dataTable =\n",
              "            await google.colab.kernel.invokeFunction('convertToInteractive',\n",
              "                                                     [key], {});\n",
              "          if (!dataTable) return;\n",
              "\n",
              "          const docLinkHtml = 'Like what you see? Visit the ' +\n",
              "            '<a target=\"_blank\" href=https://colab.research.google.com/notebooks/data_table.ipynb>data table notebook</a>'\n",
              "            + ' to learn more about interactive tables.';\n",
              "          element.innerHTML = '';\n",
              "          dataTable['output_type'] = 'display_data';\n",
              "          await google.colab.output.renderOutput(dataTable, element);\n",
              "          const docLink = document.createElement('div');\n",
              "          docLink.innerHTML = docLinkHtml;\n",
              "          element.appendChild(docLink);\n",
              "        }\n",
              "      </script>\n",
              "    </div>\n",
              "  </div>\n",
              "  "
            ]
          },
          "metadata": {},
          "execution_count": 245
        }
      ],
      "source": [
        "anime_df = pd.read_csv('/content/drive/MyDrive/Data Science/anime.csv')\n",
        "anime_df.head()"
      ],
      "id": "2a3d4765-5d2e-4410-b239-bc52f5915ad5"
    },
    {
      "cell_type": "markdown",
      "metadata": {
        "id": "53dab50b-75e8-47d9-b6d4-dd0e9d8d40db"
      },
      "source": [
        "Create a DataFrame for your ratings"
      ],
      "id": "53dab50b-75e8-47d9-b6d4-dd0e9d8d40db"
    },
    {
      "cell_type": "code",
      "execution_count": 246,
      "metadata": {
        "id": "65e2150c-e3b6-400e-9bbf-1db4afdb7218",
        "colab": {
          "base_uri": "https://localhost:8080/",
          "height": 206
        },
        "outputId": "69d4202d-e2ab-44ba-fa59-cf2368b8b2f8"
      },
      "outputs": [
        {
          "output_type": "execute_result",
          "data": {
            "text/plain": [
              "   user_id  anime_id  rating\n",
              "0        0       147     5.0\n",
              "1        1      1512     4.5\n",
              "2        1       599     4.0\n",
              "3        1      2292     4.5\n",
              "4        1      1078     3.0"
            ],
            "text/html": [
              "\n",
              "  <div id=\"df-1681fc3e-370b-4dc0-92cb-8e2eeed0922f\">\n",
              "    <div class=\"colab-df-container\">\n",
              "      <div>\n",
              "<style scoped>\n",
              "    .dataframe tbody tr th:only-of-type {\n",
              "        vertical-align: middle;\n",
              "    }\n",
              "\n",
              "    .dataframe tbody tr th {\n",
              "        vertical-align: top;\n",
              "    }\n",
              "\n",
              "    .dataframe thead th {\n",
              "        text-align: right;\n",
              "    }\n",
              "</style>\n",
              "<table border=\"1\" class=\"dataframe\">\n",
              "  <thead>\n",
              "    <tr style=\"text-align: right;\">\n",
              "      <th></th>\n",
              "      <th>user_id</th>\n",
              "      <th>anime_id</th>\n",
              "      <th>rating</th>\n",
              "    </tr>\n",
              "  </thead>\n",
              "  <tbody>\n",
              "    <tr>\n",
              "      <th>0</th>\n",
              "      <td>0</td>\n",
              "      <td>147</td>\n",
              "      <td>5.0</td>\n",
              "    </tr>\n",
              "    <tr>\n",
              "      <th>1</th>\n",
              "      <td>1</td>\n",
              "      <td>1512</td>\n",
              "      <td>4.5</td>\n",
              "    </tr>\n",
              "    <tr>\n",
              "      <th>2</th>\n",
              "      <td>1</td>\n",
              "      <td>599</td>\n",
              "      <td>4.0</td>\n",
              "    </tr>\n",
              "    <tr>\n",
              "      <th>3</th>\n",
              "      <td>1</td>\n",
              "      <td>2292</td>\n",
              "      <td>4.5</td>\n",
              "    </tr>\n",
              "    <tr>\n",
              "      <th>4</th>\n",
              "      <td>1</td>\n",
              "      <td>1078</td>\n",
              "      <td>3.0</td>\n",
              "    </tr>\n",
              "  </tbody>\n",
              "</table>\n",
              "</div>\n",
              "      <button class=\"colab-df-convert\" onclick=\"convertToInteractive('df-1681fc3e-370b-4dc0-92cb-8e2eeed0922f')\"\n",
              "              title=\"Convert this dataframe to an interactive table.\"\n",
              "              style=\"display:none;\">\n",
              "        \n",
              "  <svg xmlns=\"http://www.w3.org/2000/svg\" height=\"24px\"viewBox=\"0 0 24 24\"\n",
              "       width=\"24px\">\n",
              "    <path d=\"M0 0h24v24H0V0z\" fill=\"none\"/>\n",
              "    <path d=\"M18.56 5.44l.94 2.06.94-2.06 2.06-.94-2.06-.94-.94-2.06-.94 2.06-2.06.94zm-11 1L8.5 8.5l.94-2.06 2.06-.94-2.06-.94L8.5 2.5l-.94 2.06-2.06.94zm10 10l.94 2.06.94-2.06 2.06-.94-2.06-.94-.94-2.06-.94 2.06-2.06.94z\"/><path d=\"M17.41 7.96l-1.37-1.37c-.4-.4-.92-.59-1.43-.59-.52 0-1.04.2-1.43.59L10.3 9.45l-7.72 7.72c-.78.78-.78 2.05 0 2.83L4 21.41c.39.39.9.59 1.41.59.51 0 1.02-.2 1.41-.59l7.78-7.78 2.81-2.81c.8-.78.8-2.07 0-2.86zM5.41 20L4 18.59l7.72-7.72 1.47 1.35L5.41 20z\"/>\n",
              "  </svg>\n",
              "      </button>\n",
              "      \n",
              "  <style>\n",
              "    .colab-df-container {\n",
              "      display:flex;\n",
              "      flex-wrap:wrap;\n",
              "      gap: 12px;\n",
              "    }\n",
              "\n",
              "    .colab-df-convert {\n",
              "      background-color: #E8F0FE;\n",
              "      border: none;\n",
              "      border-radius: 50%;\n",
              "      cursor: pointer;\n",
              "      display: none;\n",
              "      fill: #1967D2;\n",
              "      height: 32px;\n",
              "      padding: 0 0 0 0;\n",
              "      width: 32px;\n",
              "    }\n",
              "\n",
              "    .colab-df-convert:hover {\n",
              "      background-color: #E2EBFA;\n",
              "      box-shadow: 0px 1px 2px rgba(60, 64, 67, 0.3), 0px 1px 3px 1px rgba(60, 64, 67, 0.15);\n",
              "      fill: #174EA6;\n",
              "    }\n",
              "\n",
              "    [theme=dark] .colab-df-convert {\n",
              "      background-color: #3B4455;\n",
              "      fill: #D2E3FC;\n",
              "    }\n",
              "\n",
              "    [theme=dark] .colab-df-convert:hover {\n",
              "      background-color: #434B5C;\n",
              "      box-shadow: 0px 1px 3px 1px rgba(0, 0, 0, 0.15);\n",
              "      filter: drop-shadow(0px 1px 2px rgba(0, 0, 0, 0.3));\n",
              "      fill: #FFFFFF;\n",
              "    }\n",
              "  </style>\n",
              "\n",
              "      <script>\n",
              "        const buttonEl =\n",
              "          document.querySelector('#df-1681fc3e-370b-4dc0-92cb-8e2eeed0922f button.colab-df-convert');\n",
              "        buttonEl.style.display =\n",
              "          google.colab.kernel.accessAllowed ? 'block' : 'none';\n",
              "\n",
              "        async function convertToInteractive(key) {\n",
              "          const element = document.querySelector('#df-1681fc3e-370b-4dc0-92cb-8e2eeed0922f');\n",
              "          const dataTable =\n",
              "            await google.colab.kernel.invokeFunction('convertToInteractive',\n",
              "                                                     [key], {});\n",
              "          if (!dataTable) return;\n",
              "\n",
              "          const docLinkHtml = 'Like what you see? Visit the ' +\n",
              "            '<a target=\"_blank\" href=https://colab.research.google.com/notebooks/data_table.ipynb>data table notebook</a>'\n",
              "            + ' to learn more about interactive tables.';\n",
              "          element.innerHTML = '';\n",
              "          dataTable['output_type'] = 'display_data';\n",
              "          await google.colab.output.renderOutput(dataTable, element);\n",
              "          const docLink = document.createElement('div');\n",
              "          docLink.innerHTML = docLinkHtml;\n",
              "          element.appendChild(docLink);\n",
              "        }\n",
              "      </script>\n",
              "    </div>\n",
              "  </div>\n",
              "  "
            ]
          },
          "metadata": {},
          "execution_count": 246
        }
      ],
      "source": [
        "rating_df = pd.read_csv('/content/drive/MyDrive/Data Science/rating_complete.csv')\n",
        "rating_df.head()"
      ],
      "id": "65e2150c-e3b6-400e-9bbf-1db4afdb7218"
    },
    {
      "cell_type": "markdown",
      "metadata": {
        "id": "ef57460b-3f6e-4fde-940e-a89c5a4167a4"
      },
      "source": [
        "Data Shapes of the dataframe"
      ],
      "id": "ef57460b-3f6e-4fde-940e-a89c5a4167a4"
    },
    {
      "cell_type": "code",
      "execution_count": 247,
      "metadata": {
        "id": "516250b8-00cc-41a7-94b1-69764445082b",
        "colab": {
          "base_uri": "https://localhost:8080/"
        },
        "outputId": "338c6f96-87bf-4bb6-b622-1aa0baea80af"
      },
      "outputs": [
        {
          "output_type": "stream",
          "name": "stdout",
          "text": [
            "anime_df\n"
          ]
        },
        {
          "output_type": "execute_result",
          "data": {
            "text/plain": [
              "(16621, 17)"
            ]
          },
          "metadata": {},
          "execution_count": 247
        }
      ],
      "source": [
        "print('anime_df')\n",
        "anime_df.shape\n"
      ],
      "id": "516250b8-00cc-41a7-94b1-69764445082b"
    },
    {
      "cell_type": "code",
      "execution_count": 248,
      "metadata": {
        "id": "bb2dbc33-548c-4c50-b51d-25946d4c5f1d",
        "colab": {
          "base_uri": "https://localhost:8080/"
        },
        "outputId": "47a2c0e8-3c62-4ba4-f76d-d00b359626b5"
      },
      "outputs": [
        {
          "output_type": "stream",
          "name": "stdout",
          "text": [
            "rating_df\n"
          ]
        },
        {
          "output_type": "execute_result",
          "data": {
            "text/plain": [
              "(8765945, 3)"
            ]
          },
          "metadata": {},
          "execution_count": 248
        }
      ],
      "source": [
        "print('rating_df')\n",
        "rating_df.shape"
      ],
      "id": "bb2dbc33-548c-4c50-b51d-25946d4c5f1d"
    },
    {
      "cell_type": "markdown",
      "metadata": {
        "id": "471ea79e-3c17-4417-a07f-e1e2d4c6e09e"
      },
      "source": [
        "Info of the dataframe"
      ],
      "id": "471ea79e-3c17-4417-a07f-e1e2d4c6e09e"
    },
    {
      "cell_type": "code",
      "execution_count": 249,
      "metadata": {
        "id": "3c5ff73f-9f61-42f3-b93c-54671a2debd5",
        "colab": {
          "base_uri": "https://localhost:8080/"
        },
        "outputId": "efe592ac-c957-4724-ab8f-67eac4adfc01"
      },
      "outputs": [
        {
          "output_type": "stream",
          "name": "stdout",
          "text": [
            "Anime:\n",
            "\n",
            "<class 'pandas.core.frame.DataFrame'>\n",
            "RangeIndex: 16621 entries, 0 to 16620\n",
            "Data columns (total 17 columns):\n",
            " #   Column            Non-Null Count  Dtype \n",
            "---  ------            --------------  ----- \n",
            " 0   Anime-PlanetID    16621 non-null  int64 \n",
            " 1   Name              16621 non-null  object\n",
            " 2   Alternative Name  16621 non-null  object\n",
            " 3   Rating Score      16621 non-null  object\n",
            " 4   Number Votes      16621 non-null  object\n",
            " 5   Tags              16621 non-null  object\n",
            " 6   Content Warning   16621 non-null  object\n",
            " 7   Type              16621 non-null  object\n",
            " 8   Episodes          16621 non-null  object\n",
            " 9   Finished          16621 non-null  bool  \n",
            " 10  Duration          16621 non-null  object\n",
            " 11  StartYear         16621 non-null  object\n",
            " 12  EndYear           16621 non-null  object\n",
            " 13  Season            16621 non-null  object\n",
            " 14  Studios           16621 non-null  object\n",
            " 15  Synopsis          16615 non-null  object\n",
            " 16  Url               16621 non-null  object\n",
            "dtypes: bool(1), int64(1), object(15)\n",
            "memory usage: 2.0+ MB\n",
            "None\n"
          ]
        }
      ],
      "source": [
        "print(\"Anime:\\n\")\n",
        "print(anime_df.info())"
      ],
      "id": "3c5ff73f-9f61-42f3-b93c-54671a2debd5"
    },
    {
      "cell_type": "code",
      "execution_count": 250,
      "metadata": {
        "id": "cb33d3e6-72c7-407c-94a2-528a7d507d44",
        "colab": {
          "base_uri": "https://localhost:8080/"
        },
        "outputId": "b8a7c007-08e5-46ef-fa64-4fa428aedc51"
      },
      "outputs": [
        {
          "output_type": "stream",
          "name": "stdout",
          "text": [
            "Rating:\n",
            "\n",
            "<class 'pandas.core.frame.DataFrame'>\n",
            "RangeIndex: 8765945 entries, 0 to 8765944\n",
            "Data columns (total 3 columns):\n",
            " #   Column    Dtype  \n",
            "---  ------    -----  \n",
            " 0   user_id   int64  \n",
            " 1   anime_id  int64  \n",
            " 2   rating    float64\n",
            "dtypes: float64(1), int64(2)\n",
            "memory usage: 200.6 MB\n",
            "None\n"
          ]
        }
      ],
      "source": [
        "print(\"Rating:\\n\")\n",
        "print(rating_df.info())"
      ],
      "id": "cb33d3e6-72c7-407c-94a2-528a7d507d44"
    },
    {
      "cell_type": "markdown",
      "metadata": {
        "id": "bee22db7-4a1d-431f-aa4e-6350cbd7818b"
      },
      "source": [
        ""
      ],
      "id": "bee22db7-4a1d-431f-aa4e-6350cbd7818b"
    },
    {
      "cell_type": "markdown",
      "metadata": {
        "id": "6998cf96-18dd-4e25-aad8-37876b9a790d"
      },
      "source": [
        "HANDLING MISSING DATA FIELDS"
      ],
      "id": "6998cf96-18dd-4e25-aad8-37876b9a790d"
    },
    {
      "cell_type": "code",
      "execution_count": 251,
      "metadata": {
        "id": "75a9d531-3265-4a47-8ae5-e994773d8940",
        "colab": {
          "base_uri": "https://localhost:8080/"
        },
        "outputId": "2865e3eb-493b-41e4-a74f-70c25845a478"
      },
      "outputs": [
        {
          "output_type": "stream",
          "name": "stdout",
          "text": [
            "Missing Values in the Anime Dataset (%) : \n",
            "\n",
            "\n",
            "Synopsis            0.04\n",
            "Anime-PlanetID      0.00\n",
            "Finished            0.00\n",
            "Studios             0.00\n",
            "Season              0.00\n",
            "EndYear             0.00\n",
            "StartYear           0.00\n",
            "Duration            0.00\n",
            "Episodes            0.00\n",
            "Name                0.00\n",
            "Type                0.00\n",
            "Content Warning     0.00\n",
            "Tags                0.00\n",
            "Number Votes        0.00\n",
            "Rating Score        0.00\n",
            "Alternative Name    0.00\n",
            "Url                 0.00\n",
            "dtype: float64\n",
            "\n",
            " =+==+==+==+==+==+==+==+==+==+==+==+==+==+==+==+==+==+==+==+==+==+==+==+==+==+==+==+==+==+==+==+==+==+==+==+= \n",
            "\n",
            "Missing Values in the Ratings Dataset (%) : \n",
            "\n",
            "\n",
            "user_id     0.0\n",
            "anime_id    0.0\n",
            "rating      0.0\n",
            "dtype: float64\n"
          ]
        }
      ],
      "source": [
        "print(\"Missing Values in the Anime Dataset (%) : \\n\\n\")\n",
        "print(round(anime_df.isnull().sum().sort_values(ascending=False)/len(anime_df.index), 4 ) * 100)\n",
        "\n",
        "#some missing values are given as unknown.\n",
        "#if you really wanna know how mmany unkown values there are yk what to do.\n",
        "\n",
        "\n",
        "\n",
        "print('\\n', '=+=' * 36 , '\\n')\n",
        "\n",
        "print(\"Missing Values in the Ratings Dataset (%) : \\n\\n\")\n",
        "print(round(rating_df.isnull().sum().sort_values(ascending=False)/len(rating_df.index), 4 ) * 100)\n"
      ],
      "id": "75a9d531-3265-4a47-8ae5-e994773d8940"
    },
    {
      "cell_type": "raw",
      "metadata": {
        "id": "edd21704-a6b1-4a5c-9011-d797502a3045"
      },
      "source": [
        "Since the synopsis has some missing values, you may want to look into that\n",
        "There are no missing values but in a case where you do find some missing values you may want to \n",
        "clean up the data set and then normalize it.\n",
        "\n",
        "After looking directly at the dataset, i realised that the fields that were unavailable were filled with Unknown thats why we have no missing values.\n",
        "It didnt make sense that 8 million files will be recorded perfectly tf?."
      ],
      "id": "edd21704-a6b1-4a5c-9011-d797502a3045"
    },
    {
      "cell_type": "code",
      "execution_count": 252,
      "metadata": {
        "id": "fd9a2d74-4591-4d96-8b85-5937495f2eb5",
        "colab": {
          "base_uri": "https://localhost:8080/"
        },
        "outputId": "20cf9e79-699b-45c1-f7bc-5023f171c973"
      },
      "outputs": [
        {
          "output_type": "stream",
          "name": "stdout",
          "text": [
            "0    TV\n",
            "dtype: object\n",
            "0    Unknown\n",
            "dtype: object\n",
            "0    Unknown\n",
            "dtype: object\n"
          ]
        }
      ],
      "source": [
        "\n",
        "print(anime_df['Type'].mode())\n",
        "print(anime_df['Tags'].mode())\n",
        "print(anime_df['Rating Score'].mode())\n"
      ],
      "id": "fd9a2d74-4591-4d96-8b85-5937495f2eb5"
    },
    {
      "cell_type": "markdown",
      "metadata": {
        "id": "1765e681-808a-44dd-af30-1413d9ba761d"
      },
      "source": [
        "The most frequent type is TV\n",
        "The most frequent tags are unkown because a video may have multiple tags this may result in a problem\n"
      ],
      "id": "1765e681-808a-44dd-af30-1413d9ba761d"
    },
    {
      "cell_type": "code",
      "execution_count": 253,
      "metadata": {
        "id": "7a21489c-d279-4266-b09b-957c3400173f",
        "colab": {
          "base_uri": "https://localhost:8080/"
        },
        "outputId": "bf298b66-67eb-47b9-8a92-6d884290c9a0"
      },
      "outputs": [
        {
          "output_type": "execute_result",
          "data": {
            "text/plain": [
              "Anime-PlanetID      0\n",
              "Name                0\n",
              "Alternative Name    0\n",
              "Rating Score        0\n",
              "Number Votes        0\n",
              "Tags                0\n",
              "Content Warning     0\n",
              "Type                0\n",
              "Episodes            0\n",
              "Finished            0\n",
              "Duration            0\n",
              "StartYear           0\n",
              "EndYear             0\n",
              "Season              0\n",
              "Studios             0\n",
              "Synopsis            6\n",
              "Url                 0\n",
              "dtype: int64"
            ]
          },
          "metadata": {},
          "execution_count": 253
        }
      ],
      "source": [
        "\n",
        "# filling mode value for tags and type\n",
        "anime_df['Tags'] = anime_df['Tags'].apply(lambda x: np.nan if x=='Unknown' else x)\n",
        "anime_df['Tags'] = anime_df['Tags'].fillna(anime_df['Tags'].dropna().mode().values[0])\n",
        "\n",
        "\n",
        "anime_df['Type'] = anime_df['Type'].apply(lambda x: np.nan if x=='Unknown' else x)\n",
        "anime_df['Type'] = anime_df['Type'].fillna(anime_df['Type'].dropna().mode().values[0])\n",
        "\n",
        "# deleting anime with 0 rating\n",
        "\n",
        "anime_df['Rating Score'] = anime_df['Rating Score'].apply(lambda x: 0 if x=='Unknown' else x)\n",
        "#anime_df['Rating Score'] = anime_df['Rating Score'].fillna(anime_df['Rating Score'].dropna().mode().values[0])\n",
        "anime_df['Rating Score'] = anime_df['Rating Score'].astype('float')\n",
        "anime_df=anime_df[~np.isnan(anime_df[\"Rating Score\"])]\n",
        "\n",
        "\n",
        "#checking if all null values are filled\n",
        "anime_df.isnull().sum()"
      ],
      "id": "7a21489c-d279-4266-b09b-957c3400173f"
    },
    {
      "cell_type": "raw",
      "metadata": {
        "id": "63953770-8fbe-4b9c-9e7c-c832538f5904"
      },
      "source": [
        "While getting rid of some empty fields i decided to take a look at the empty rating scores in the anime dataset"
      ],
      "id": "63953770-8fbe-4b9c-9e7c-c832538f5904"
    },
    {
      "cell_type": "code",
      "execution_count": 254,
      "metadata": {
        "id": "3e8e63e7-d6cc-49c9-a60e-4d0ff250f103",
        "colab": {
          "base_uri": "https://localhost:8080/",
          "height": 206
        },
        "outputId": "7a826b7f-3733-4994-b649-4103f3b09c97"
      },
      "outputs": [
        {
          "output_type": "execute_result",
          "data": {
            "text/plain": [
              "   user_id  anime_id  rating\n",
              "0        0       147     5.0\n",
              "1        1      1512     4.5\n",
              "2        1       599     4.0\n",
              "3        1      2292     4.5\n",
              "4        1      1078     3.0"
            ],
            "text/html": [
              "\n",
              "  <div id=\"df-0750fa37-462a-48e0-8f52-006e0fdca048\">\n",
              "    <div class=\"colab-df-container\">\n",
              "      <div>\n",
              "<style scoped>\n",
              "    .dataframe tbody tr th:only-of-type {\n",
              "        vertical-align: middle;\n",
              "    }\n",
              "\n",
              "    .dataframe tbody tr th {\n",
              "        vertical-align: top;\n",
              "    }\n",
              "\n",
              "    .dataframe thead th {\n",
              "        text-align: right;\n",
              "    }\n",
              "</style>\n",
              "<table border=\"1\" class=\"dataframe\">\n",
              "  <thead>\n",
              "    <tr style=\"text-align: right;\">\n",
              "      <th></th>\n",
              "      <th>user_id</th>\n",
              "      <th>anime_id</th>\n",
              "      <th>rating</th>\n",
              "    </tr>\n",
              "  </thead>\n",
              "  <tbody>\n",
              "    <tr>\n",
              "      <th>0</th>\n",
              "      <td>0</td>\n",
              "      <td>147</td>\n",
              "      <td>5.0</td>\n",
              "    </tr>\n",
              "    <tr>\n",
              "      <th>1</th>\n",
              "      <td>1</td>\n",
              "      <td>1512</td>\n",
              "      <td>4.5</td>\n",
              "    </tr>\n",
              "    <tr>\n",
              "      <th>2</th>\n",
              "      <td>1</td>\n",
              "      <td>599</td>\n",
              "      <td>4.0</td>\n",
              "    </tr>\n",
              "    <tr>\n",
              "      <th>3</th>\n",
              "      <td>1</td>\n",
              "      <td>2292</td>\n",
              "      <td>4.5</td>\n",
              "    </tr>\n",
              "    <tr>\n",
              "      <th>4</th>\n",
              "      <td>1</td>\n",
              "      <td>1078</td>\n",
              "      <td>3.0</td>\n",
              "    </tr>\n",
              "  </tbody>\n",
              "</table>\n",
              "</div>\n",
              "      <button class=\"colab-df-convert\" onclick=\"convertToInteractive('df-0750fa37-462a-48e0-8f52-006e0fdca048')\"\n",
              "              title=\"Convert this dataframe to an interactive table.\"\n",
              "              style=\"display:none;\">\n",
              "        \n",
              "  <svg xmlns=\"http://www.w3.org/2000/svg\" height=\"24px\"viewBox=\"0 0 24 24\"\n",
              "       width=\"24px\">\n",
              "    <path d=\"M0 0h24v24H0V0z\" fill=\"none\"/>\n",
              "    <path d=\"M18.56 5.44l.94 2.06.94-2.06 2.06-.94-2.06-.94-.94-2.06-.94 2.06-2.06.94zm-11 1L8.5 8.5l.94-2.06 2.06-.94-2.06-.94L8.5 2.5l-.94 2.06-2.06.94zm10 10l.94 2.06.94-2.06 2.06-.94-2.06-.94-.94-2.06-.94 2.06-2.06.94z\"/><path d=\"M17.41 7.96l-1.37-1.37c-.4-.4-.92-.59-1.43-.59-.52 0-1.04.2-1.43.59L10.3 9.45l-7.72 7.72c-.78.78-.78 2.05 0 2.83L4 21.41c.39.39.9.59 1.41.59.51 0 1.02-.2 1.41-.59l7.78-7.78 2.81-2.81c.8-.78.8-2.07 0-2.86zM5.41 20L4 18.59l7.72-7.72 1.47 1.35L5.41 20z\"/>\n",
              "  </svg>\n",
              "      </button>\n",
              "      \n",
              "  <style>\n",
              "    .colab-df-container {\n",
              "      display:flex;\n",
              "      flex-wrap:wrap;\n",
              "      gap: 12px;\n",
              "    }\n",
              "\n",
              "    .colab-df-convert {\n",
              "      background-color: #E8F0FE;\n",
              "      border: none;\n",
              "      border-radius: 50%;\n",
              "      cursor: pointer;\n",
              "      display: none;\n",
              "      fill: #1967D2;\n",
              "      height: 32px;\n",
              "      padding: 0 0 0 0;\n",
              "      width: 32px;\n",
              "    }\n",
              "\n",
              "    .colab-df-convert:hover {\n",
              "      background-color: #E2EBFA;\n",
              "      box-shadow: 0px 1px 2px rgba(60, 64, 67, 0.3), 0px 1px 3px 1px rgba(60, 64, 67, 0.15);\n",
              "      fill: #174EA6;\n",
              "    }\n",
              "\n",
              "    [theme=dark] .colab-df-convert {\n",
              "      background-color: #3B4455;\n",
              "      fill: #D2E3FC;\n",
              "    }\n",
              "\n",
              "    [theme=dark] .colab-df-convert:hover {\n",
              "      background-color: #434B5C;\n",
              "      box-shadow: 0px 1px 3px 1px rgba(0, 0, 0, 0.15);\n",
              "      filter: drop-shadow(0px 1px 2px rgba(0, 0, 0, 0.3));\n",
              "      fill: #FFFFFF;\n",
              "    }\n",
              "  </style>\n",
              "\n",
              "      <script>\n",
              "        const buttonEl =\n",
              "          document.querySelector('#df-0750fa37-462a-48e0-8f52-006e0fdca048 button.colab-df-convert');\n",
              "        buttonEl.style.display =\n",
              "          google.colab.kernel.accessAllowed ? 'block' : 'none';\n",
              "\n",
              "        async function convertToInteractive(key) {\n",
              "          const element = document.querySelector('#df-0750fa37-462a-48e0-8f52-006e0fdca048');\n",
              "          const dataTable =\n",
              "            await google.colab.kernel.invokeFunction('convertToInteractive',\n",
              "                                                     [key], {});\n",
              "          if (!dataTable) return;\n",
              "\n",
              "          const docLinkHtml = 'Like what you see? Visit the ' +\n",
              "            '<a target=\"_blank\" href=https://colab.research.google.com/notebooks/data_table.ipynb>data table notebook</a>'\n",
              "            + ' to learn more about interactive tables.';\n",
              "          element.innerHTML = '';\n",
              "          dataTable['output_type'] = 'display_data';\n",
              "          await google.colab.output.renderOutput(dataTable, element);\n",
              "          const docLink = document.createElement('div');\n",
              "          docLink.innerHTML = docLinkHtml;\n",
              "          element.appendChild(docLink);\n",
              "        }\n",
              "      </script>\n",
              "    </div>\n",
              "  </div>\n",
              "  "
            ]
          },
          "metadata": {},
          "execution_count": 254
        }
      ],
      "source": [
        "\n",
        "# making sure fields that are empty will show up as noN\n",
        "rating_df['rating'] = rating_df['rating'].apply(lambda x: np.nan if x==-1 else x)\n",
        "rating_df.head()"
      ],
      "id": "3e8e63e7-d6cc-49c9-a60e-4d0ff250f103"
    },
    {
      "cell_type": "markdown",
      "metadata": {
        "id": "65556588-749d-40ab-83b7-a19f3fa24d0b"
      },
      "source": [
        "\n",
        "Now we will engineer our Dataframe in the following steps:\n",
        "We want to recommend anime series only so the the relevant type is TV\n",
        "We make a new Dataframe combining both anime and rating on the anime_id column.\n",
        "Leaving only user_id, name and rating as the Df.\n",
        "For computing purpose only we compute our Df based only on the first 7500 users.\n"
      ],
      "id": "65556588-749d-40ab-83b7-a19f3fa24d0b"
    },
    {
      "cell_type": "code",
      "execution_count": 255,
      "metadata": {
        "id": "7504a842-945e-4a09-aa69-92426da04430",
        "colab": {
          "base_uri": "https://localhost:8080/",
          "height": 206
        },
        "outputId": "3822b313-fae6-4082-e148-5ce68a7a2ee2"
      },
      "outputs": [
        {
          "output_type": "execute_result",
          "data": {
            "text/plain": [
              "   user_id           Name  Rating Score  \\\n",
              "0        0  Fruits Basket         4.139   \n",
              "1        2  Fruits Basket         4.139   \n",
              "2        6  Fruits Basket         4.139   \n",
              "3        7  Fruits Basket         4.139   \n",
              "4       23  Fruits Basket         4.139   \n",
              "\n",
              "                                                Tags  \\\n",
              "0  Comedy, Drama, Fantasy, Romance, Shoujo, Anima...   \n",
              "1  Comedy, Drama, Fantasy, Romance, Shoujo, Anima...   \n",
              "2  Comedy, Drama, Fantasy, Romance, Shoujo, Anima...   \n",
              "3  Comedy, Drama, Fantasy, Romance, Shoujo, Anima...   \n",
              "4  Comedy, Drama, Fantasy, Romance, Shoujo, Anima...   \n",
              "\n",
              "                                                Url  \n",
              "0  https://www.anime-planet.com/anime/fruits-basket  \n",
              "1  https://www.anime-planet.com/anime/fruits-basket  \n",
              "2  https://www.anime-planet.com/anime/fruits-basket  \n",
              "3  https://www.anime-planet.com/anime/fruits-basket  \n",
              "4  https://www.anime-planet.com/anime/fruits-basket  "
            ],
            "text/html": [
              "\n",
              "  <div id=\"df-dd2852d8-e2bc-4438-ba19-18c712833273\">\n",
              "    <div class=\"colab-df-container\">\n",
              "      <div>\n",
              "<style scoped>\n",
              "    .dataframe tbody tr th:only-of-type {\n",
              "        vertical-align: middle;\n",
              "    }\n",
              "\n",
              "    .dataframe tbody tr th {\n",
              "        vertical-align: top;\n",
              "    }\n",
              "\n",
              "    .dataframe thead th {\n",
              "        text-align: right;\n",
              "    }\n",
              "</style>\n",
              "<table border=\"1\" class=\"dataframe\">\n",
              "  <thead>\n",
              "    <tr style=\"text-align: right;\">\n",
              "      <th></th>\n",
              "      <th>user_id</th>\n",
              "      <th>Name</th>\n",
              "      <th>Rating Score</th>\n",
              "      <th>Tags</th>\n",
              "      <th>Url</th>\n",
              "    </tr>\n",
              "  </thead>\n",
              "  <tbody>\n",
              "    <tr>\n",
              "      <th>0</th>\n",
              "      <td>0</td>\n",
              "      <td>Fruits Basket</td>\n",
              "      <td>4.139</td>\n",
              "      <td>Comedy, Drama, Fantasy, Romance, Shoujo, Anima...</td>\n",
              "      <td>https://www.anime-planet.com/anime/fruits-basket</td>\n",
              "    </tr>\n",
              "    <tr>\n",
              "      <th>1</th>\n",
              "      <td>2</td>\n",
              "      <td>Fruits Basket</td>\n",
              "      <td>4.139</td>\n",
              "      <td>Comedy, Drama, Fantasy, Romance, Shoujo, Anima...</td>\n",
              "      <td>https://www.anime-planet.com/anime/fruits-basket</td>\n",
              "    </tr>\n",
              "    <tr>\n",
              "      <th>2</th>\n",
              "      <td>6</td>\n",
              "      <td>Fruits Basket</td>\n",
              "      <td>4.139</td>\n",
              "      <td>Comedy, Drama, Fantasy, Romance, Shoujo, Anima...</td>\n",
              "      <td>https://www.anime-planet.com/anime/fruits-basket</td>\n",
              "    </tr>\n",
              "    <tr>\n",
              "      <th>3</th>\n",
              "      <td>7</td>\n",
              "      <td>Fruits Basket</td>\n",
              "      <td>4.139</td>\n",
              "      <td>Comedy, Drama, Fantasy, Romance, Shoujo, Anima...</td>\n",
              "      <td>https://www.anime-planet.com/anime/fruits-basket</td>\n",
              "    </tr>\n",
              "    <tr>\n",
              "      <th>4</th>\n",
              "      <td>23</td>\n",
              "      <td>Fruits Basket</td>\n",
              "      <td>4.139</td>\n",
              "      <td>Comedy, Drama, Fantasy, Romance, Shoujo, Anima...</td>\n",
              "      <td>https://www.anime-planet.com/anime/fruits-basket</td>\n",
              "    </tr>\n",
              "  </tbody>\n",
              "</table>\n",
              "</div>\n",
              "      <button class=\"colab-df-convert\" onclick=\"convertToInteractive('df-dd2852d8-e2bc-4438-ba19-18c712833273')\"\n",
              "              title=\"Convert this dataframe to an interactive table.\"\n",
              "              style=\"display:none;\">\n",
              "        \n",
              "  <svg xmlns=\"http://www.w3.org/2000/svg\" height=\"24px\"viewBox=\"0 0 24 24\"\n",
              "       width=\"24px\">\n",
              "    <path d=\"M0 0h24v24H0V0z\" fill=\"none\"/>\n",
              "    <path d=\"M18.56 5.44l.94 2.06.94-2.06 2.06-.94-2.06-.94-.94-2.06-.94 2.06-2.06.94zm-11 1L8.5 8.5l.94-2.06 2.06-.94-2.06-.94L8.5 2.5l-.94 2.06-2.06.94zm10 10l.94 2.06.94-2.06 2.06-.94-2.06-.94-.94-2.06-.94 2.06-2.06.94z\"/><path d=\"M17.41 7.96l-1.37-1.37c-.4-.4-.92-.59-1.43-.59-.52 0-1.04.2-1.43.59L10.3 9.45l-7.72 7.72c-.78.78-.78 2.05 0 2.83L4 21.41c.39.39.9.59 1.41.59.51 0 1.02-.2 1.41-.59l7.78-7.78 2.81-2.81c.8-.78.8-2.07 0-2.86zM5.41 20L4 18.59l7.72-7.72 1.47 1.35L5.41 20z\"/>\n",
              "  </svg>\n",
              "      </button>\n",
              "      \n",
              "  <style>\n",
              "    .colab-df-container {\n",
              "      display:flex;\n",
              "      flex-wrap:wrap;\n",
              "      gap: 12px;\n",
              "    }\n",
              "\n",
              "    .colab-df-convert {\n",
              "      background-color: #E8F0FE;\n",
              "      border: none;\n",
              "      border-radius: 50%;\n",
              "      cursor: pointer;\n",
              "      display: none;\n",
              "      fill: #1967D2;\n",
              "      height: 32px;\n",
              "      padding: 0 0 0 0;\n",
              "      width: 32px;\n",
              "    }\n",
              "\n",
              "    .colab-df-convert:hover {\n",
              "      background-color: #E2EBFA;\n",
              "      box-shadow: 0px 1px 2px rgba(60, 64, 67, 0.3), 0px 1px 3px 1px rgba(60, 64, 67, 0.15);\n",
              "      fill: #174EA6;\n",
              "    }\n",
              "\n",
              "    [theme=dark] .colab-df-convert {\n",
              "      background-color: #3B4455;\n",
              "      fill: #D2E3FC;\n",
              "    }\n",
              "\n",
              "    [theme=dark] .colab-df-convert:hover {\n",
              "      background-color: #434B5C;\n",
              "      box-shadow: 0px 1px 3px 1px rgba(0, 0, 0, 0.15);\n",
              "      filter: drop-shadow(0px 1px 2px rgba(0, 0, 0, 0.3));\n",
              "      fill: #FFFFFF;\n",
              "    }\n",
              "  </style>\n",
              "\n",
              "      <script>\n",
              "        const buttonEl =\n",
              "          document.querySelector('#df-dd2852d8-e2bc-4438-ba19-18c712833273 button.colab-df-convert');\n",
              "        buttonEl.style.display =\n",
              "          google.colab.kernel.accessAllowed ? 'block' : 'none';\n",
              "\n",
              "        async function convertToInteractive(key) {\n",
              "          const element = document.querySelector('#df-dd2852d8-e2bc-4438-ba19-18c712833273');\n",
              "          const dataTable =\n",
              "            await google.colab.kernel.invokeFunction('convertToInteractive',\n",
              "                                                     [key], {});\n",
              "          if (!dataTable) return;\n",
              "\n",
              "          const docLinkHtml = 'Like what you see? Visit the ' +\n",
              "            '<a target=\"_blank\" href=https://colab.research.google.com/notebooks/data_table.ipynb>data table notebook</a>'\n",
              "            + ' to learn more about interactive tables.';\n",
              "          element.innerHTML = '';\n",
              "          dataTable['output_type'] = 'display_data';\n",
              "          await google.colab.output.renderOutput(dataTable, element);\n",
              "          const docLink = document.createElement('div');\n",
              "          docLink.innerHTML = docLinkHtml;\n",
              "          element.appendChild(docLink);\n",
              "        }\n",
              "      </script>\n",
              "    </div>\n",
              "  </div>\n",
              "  "
            ]
          },
          "metadata": {},
          "execution_count": 255
        }
      ],
      "source": [
        "#step 1\n",
        "anime_df = anime_df[anime_df['Type']=='TV']\n",
        "\n",
        "#step 2\n",
        "rated_anime = rating_df.merge(anime_df, left_on = 'anime_id', right_on = 'Anime-PlanetID', suffixes= ['_user', ''])\n",
        "\n",
        "#step 3 - renaming rated_anime\n",
        "rated_anime =rated_anime[['user_id', 'Name', 'Rating Score', 'Tags', 'Url']]\n",
        "\n",
        "#step 4\n",
        "rated_anime_7500= rated_anime[rated_anime.user_id <= 7500]\n",
        "rated_anime_7500.head()"
      ],
      "id": "7504a842-945e-4a09-aa69-92426da04430"
    },
    {
      "cell_type": "markdown",
      "metadata": {
        "id": "402f18bf-5654-4137-a24c-6266015958ab"
      },
      "source": [
        "TIME FOR THE FUN STUFF!!\n"
      ],
      "id": "402f18bf-5654-4137-a24c-6266015958ab"
    },
    {
      "cell_type": "markdown",
      "metadata": {
        "id": "3f290b7e-dfeb-4dde-a3ac-79388ee741f1"
      },
      "source": [
        "Pivot Table for similarity\n",
        "We will create a pivot table of users as rows and tv show names as columns. The pivot table will help us will be analized for the calcuations of similarity."
      ],
      "id": "3f290b7e-dfeb-4dde-a3ac-79388ee741f1"
    },
    {
      "cell_type": "code",
      "execution_count": 256,
      "metadata": {
        "id": "8d519f60-5159-405d-8cba-7157279cb522"
      },
      "outputs": [],
      "source": [
        "pivot = rated_anime_7500.pivot_table(index=['user_id'], columns = ['Name'], values = 'Rating Score')\n",
        "\n",
        "#Tagpivot = rated_anime_7500.pivot_table(index=['Tags'], columns = ['Name'], values = 'Rating Score')\n",
        "Tagpivot = rated_anime_7500.pivot_table(index=['Name'], columns = ['Tags'], values = 'Rating Score')\n",
        "#pivot.head()"
      ],
      "id": "8d519f60-5159-405d-8cba-7157279cb522"
    },
    {
      "cell_type": "markdown",
      "metadata": {
        "id": "48edea4a-2a31-4928-9d47-ea2e56d0afbb"
      },
      "source": [
        "A pivot table is a table of grouped values that aggregates the individual items of a more\n",
        "extensive table within one or more discrete categories"
      ],
      "id": "48edea4a-2a31-4928-9d47-ea2e56d0afbb"
    },
    {
      "cell_type": "markdown",
      "metadata": {
        "id": "d86c9725-0d95-41dc-8bcd-2a759fba9ab4"
      },
      "source": [
        "Now we will engineer our pivot table in the following steps:\n",
        "Value normalization.\n",
        "Filling Nan values as 0.\n",
        "Transposing the pivot for the next step.\n",
        "Dropping columns with the values of 0 (unrated).\n",
        "Using scipy package to convert to sparse matrix format for the similarity computation."
      ],
      "id": "d86c9725-0d95-41dc-8bcd-2a759fba9ab4"
    },
    {
      "cell_type": "code",
      "execution_count": 257,
      "metadata": {
        "id": "6f648b24-7115-4976-87bd-f9ff1c52fdd1"
      },
      "outputs": [],
      "source": [
        "# step 1\n",
        "pivot_n = pivot.apply(lambda x: (x-np.mean(x))/(np.max(x)-np.min(x)), axis=1)\n",
        "pivot_t = Tagpivot.apply(lambda x: (x-np.mean(x))/(np.max(x)-np.min(x)), axis=1)\n",
        "# step 2\n",
        "pivot_n.fillna(0, inplace=True)\n",
        "pivot_t.fillna(0,inplace=True)\n",
        "\n",
        "# step 3\n",
        "pivot_n = pivot_n.T\n",
        "pivot_t = pivot_t.T\n",
        "\n",
        "# step 4\n",
        "pivot_n = pivot_n.loc[:, (pivot_n != 0).any(axis=0)]\n",
        "pivot_t = pivot_t.loc[:, (pivot_t != 0).any(axis=0)]\n",
        "\n",
        "# step 5\n",
        "piv_sparse = sp.sparse.csr_matrix(pivot_n.values)\n",
        "pivot_t_sparce = sp.sparse.csr_matrix(pivot_t.values)\n"
      ],
      "id": "6f648b24-7115-4976-87bd-f9ff1c52fdd1"
    },
    {
      "cell_type": "code",
      "execution_count": 258,
      "metadata": {
        "id": "fc2734d0-b2f9-4b32-9d15-08033756c1e9"
      },
      "outputs": [],
      "source": [
        "#model based on anime similarity\n",
        "anime_similarity = cosine_similarity(piv_sparse)\n",
        "tag_similarity = cosine_similarity(pivot_t_sparce)\n",
        "\n",
        "\n",
        "#Df of anime similarities\n",
        "ani_sim_df = pd.DataFrame(anime_similarity, index = pivot_n.index, columns = pivot_n.index)\n",
        "tag_sim_df = pd.DataFrame(tag_similarity, index = pivot_t.index, columns = pivot_t.index)\n"
      ],
      "id": "fc2734d0-b2f9-4b32-9d15-08033756c1e9"
    },
    {
      "cell_type": "markdown",
      "metadata": {
        "id": "46d50123-f6a8-4ee0-9eb3-e60dfdaa6c6d"
      },
      "source": [
        "Done with Pivot, sparsing and cosine_similarity\n",
        "\n",
        "Next build the function for the anime recommender\n"
      ],
      "id": "46d50123-f6a8-4ee0-9eb3-e60dfdaa6c6d"
    },
    {
      "cell_type": "code",
      "execution_count": 259,
      "metadata": {
        "id": "43dfcbe8-c11b-4390-aac5-03e45b7ac767"
      },
      "outputs": [],
      "source": [
        "def anime_recommendation(ani_name):\n",
        "    \"\"\"\n",
        "    This function will return the top 5 shows with the highest cosine similarity value and show match percent\n",
        "    \n",
        "    example:\n",
        "    >>>Input: \n",
        "    \n",
        "    anime_recommendation('Death Note')\n",
        "    \n",
        "    >>>Output: \n",
        "    \n",
        "    Recommended because you watched Death Note:\n",
        "\n",
        "                    #1: Code Geass: Hangyaku no Lelouch, 57.35% match\n",
        "                    #2: Code Geass: Hangyaku no Lelouch R2, 54.81% match\n",
        "                    #3: Fullmetal Alchemist, 51.07% match\n",
        "                    #4: Shingeki no Kyojin, 48.68% match\n",
        "                    #5: Fullmetal Alchemist: Brotherhood, 45.99% match \n",
        "\n",
        "               \n",
        "    \"\"\"\n",
        "    \n",
        "    number = 1\n",
        "    print('Recommended because you watched {}:\\n'.format(ani_name))\n",
        "    for anime in ani_sim_df.sort_values(by = ani_name, ascending = False).index[1:6]:\n",
        "        print(f'#{number}: {anime}, {round(ani_sim_df[anime][ani_name]*100,2)}% match')\n",
        "        number +=1"
      ],
      "id": "43dfcbe8-c11b-4390-aac5-03e45b7ac767"
    },
    {
      "cell_type": "code",
      "execution_count": 260,
      "metadata": {
        "id": "58d32a14-8255-4c7f-864b-e24fbf709292",
        "colab": {
          "base_uri": "https://localhost:8080/"
        },
        "outputId": "a52d7b32-25f9-480f-e8db-6cf6898fde61"
      },
      "outputs": [
        {
          "output_type": "stream",
          "name": "stdout",
          "text": [
            "Recommended because you watched Fruits Basket:\n",
            "\n",
            "#1: Ouran High School Host Club, 37.18% match\n",
            "#2: Cardcaptor Sakura, 33.83% match\n",
            "#3: Full Metal Panic!, 33.61% match\n",
            "#4: The Melancholy of Haruhi Suzumiya, 33.58% match\n",
            "#5: Black Butler, 33.45% match\n"
          ]
        }
      ],
      "source": [
        "anime_recommendation('Fruits Basket')"
      ],
      "id": "58d32a14-8255-4c7f-864b-e24fbf709292"
    },
    {
      "cell_type": "code",
      "execution_count": 261,
      "metadata": {
        "id": "45a9fddc-d0bd-4dd8-8486-42f348333b40"
      },
      "outputs": [],
      "source": [
        "def genre_recommendation(genre_name):\n",
        "    number = 1\n",
        "    print('Recommended because you watched {}:\\n'.format(genre_name))\n",
        "    \n",
        "    #anime_df = anime_df[anime_df['Type']=='TV']\n",
        "    \n",
        "\n",
        "    seen = set()\n",
        "    \n",
        "    #for i in range(len(rated_anime['Name'])):\n",
        "    sui = rated_anime.sort_values(by = 'Rating Score', ascending = False)\n",
        "    res =  list()\n",
        "    for i in range(len(rated_anime)):\n",
        "          if genre_name in sui['Tags'][i]:          \n",
        "              \n",
        "              if sui['Name'][i] in seen:\n",
        "                  continue\n",
        "              else:\n",
        "                  seen.add(sui['Name'][i])\n",
        "              res.append((sui['Name'][i], sui['Url'][i]))\n",
        "\n",
        "    ffs = res[1: 5]\n",
        "    result = [i for i in ffs]\n",
        "    [print(i[0], ':', i[1]) for i in result]\n",
        "\n"
      ],
      "id": "45a9fddc-d0bd-4dd8-8486-42f348333b40"
    },
    {
      "cell_type": "code",
      "execution_count": 262,
      "metadata": {
        "id": "5591b3fd-34ad-457d-8113-e16584f7216c",
        "colab": {
          "base_uri": "https://localhost:8080/"
        },
        "outputId": "51b1b31b-cd2e-4eef-9b99-579c23ad64d6"
      },
      "outputs": [
        {
          "output_type": "stream",
          "name": "stdout",
          "text": [
            "Recommended because you watched Action:\n",
            "\n",
            "Mobile Fighter G Gundam : https://www.anime-planet.com/anime/mobile-fighter-g-gundam\n",
            "After War Gundam X : https://www.anime-planet.com/anime/after-war-gundam-x\n",
            "Digimon Season 2: Digital Monsters : https://www.anime-planet.com/anime/digimon-season-2-digital-monsters\n",
            "A Certain Scientific Railgun : https://www.anime-planet.com/anime/a-certain-scientific-railgun\n"
          ]
        }
      ],
      "source": [
        "genre_recommendation('Action')\n"
      ],
      "id": "5591b3fd-34ad-457d-8113-e16584f7216c"
    },
    {
      "cell_type": "code",
      "execution_count": 263,
      "metadata": {
        "id": "wwd_HofdQv0i"
      },
      "outputs": [],
      "source": [
        "def popularity():\n",
        "  sui = rated_anime.sort_values(by = 'Rating Score', ascending = False)\n",
        "  \n",
        "  res = list()\n",
        "  seen = set()\n",
        "  for i in range(len(rated_anime)):\n",
        "    if sui['Name'][i] in seen:\n",
        "      continue\n",
        "    else:\n",
        "      seen.add(sui['Name'][i])\n",
        "      res.append((sui['Name'][i], sui['Url'][i]))\n",
        "      \n",
        "      \n",
        "      \n",
        "\n",
        "  ffs = res[1: 5]\n",
        "  result = [i for i in ffs]\n",
        "  [print(i[0],':',  i[1]) for i in result]\n",
        "\n"
      ],
      "id": "wwd_HofdQv0i"
    },
    {
      "cell_type": "code",
      "execution_count": 264,
      "metadata": {
        "id": "UsXqCt6FR_I8",
        "colab": {
          "base_uri": "https://localhost:8080/"
        },
        "outputId": "abb073b2-b395-401b-a2bb-8f8955e640b6"
      },
      "outputs": [
        {
          "output_type": "stream",
          "name": "stdout",
          "text": [
            "Clannad : https://www.anime-planet.com/anime/clannad\n",
            "Mobile Suit Gundam : https://www.anime-planet.com/anime/mobile-suit-gundam\n",
            "Tengen Toppa Gurren Lagann : https://www.anime-planet.com/anime/tengen-toppa-gurren-lagann\n",
            "Mobile Fighter G Gundam : https://www.anime-planet.com/anime/mobile-fighter-g-gundam\n"
          ]
        }
      ],
      "source": [
        "popularity()"
      ],
      "id": "UsXqCt6FR_I8"
    }
  ],
  "metadata": {
    "colab": {
      "collapsed_sections": [],
      "name": "ANIME RECOMMENDER.ipynb",
      "provenance": [],
      "include_colab_link": true
    },
    "kernelspec": {
      "display_name": "Python 3 (ipykernel)",
      "language": "python",
      "name": "python3"
    },
    "language_info": {
      "codemirror_mode": {
        "name": "ipython",
        "version": 3
      },
      "file_extension": ".py",
      "mimetype": "text/x-python",
      "name": "python",
      "nbconvert_exporter": "python",
      "pygments_lexer": "ipython3",
      "version": "3.9.6"
    },
    "vscode": {
      "interpreter": {
        "hash": "1c95d18e948f6f603fc0c2d50a6ff7226b7e8e14c08b999146adfa6c75b1e6a6"
      }
    }
  },
  "nbformat": 4,
  "nbformat_minor": 5
}